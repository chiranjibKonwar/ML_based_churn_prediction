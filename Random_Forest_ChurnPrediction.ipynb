{
 "cells": [
  {
   "cell_type": "code",
   "execution_count": 2,
   "metadata": {},
   "outputs": [],
   "source": [
    "import pandas as pd\n",
    "import numpy as np\n",
    "import sys\n",
    "from knn_imputer.knnimpute import KNNImputer\n",
    "from categorical_imputer import CategoricalImputer\n",
    "\n",
    "from sklearn.model_selection import train_test_split\n",
    "from sklearn.ensemble import RandomForestClassifier\n",
    "\n",
    "pd.set_option('display.max_columns', 25)\n",
    "pd.set_option('display.max_rows', 25)\n",
    "np.set_printoptions(suppress=True, threshold=sys.maxsize)"
   ]
  },
  {
   "cell_type": "code",
   "execution_count": 3,
   "metadata": {},
   "outputs": [],
   "source": [
    "telcomdata = pd.read_csv(\"customer_churn.tsv\")\n",
    "telcomdata['TotalCharges']=pd.to_numeric(telcomdata['TotalCharges'],errors=\"coerce\")\n",
    "telcomdata['SeniorCitizen']=telcomdata['SeniorCitizen'].astype('category')\n",
    "    \n",
    "for i in telcomdata.columns:\n",
    "    if telcomdata[i].dtypes == \"O\":\n",
    "        telcomdata[i] = telcomdata[i].astype('category')\n",
    "    else:\n",
    "        pass"
   ]
  },
  {
   "cell_type": "code",
   "execution_count": 4,
   "metadata": {},
   "outputs": [
    {
     "data": {
      "text/plain": [
       "customerID          category\n",
       "gender              category\n",
       "SeniorCitizen       category\n",
       "Partner             category\n",
       "Dependents          category\n",
       "tenure               float64\n",
       "PhoneService        category\n",
       "MultipleLines       category\n",
       "InternetService     category\n",
       "OnlineSecurity      category\n",
       "OnlineBackup        category\n",
       "DeviceProtection    category\n",
       "TechSupport         category\n",
       "StreamingTV         category\n",
       "StreamingMovies     category\n",
       "Contract            category\n",
       "PaperlessBilling    category\n",
       "PaymentMethod       category\n",
       "MonthlyCharges       float64\n",
       "TotalCharges         float64\n",
       "Churn               category\n",
       "dtype: object"
      ]
     },
     "execution_count": 4,
     "metadata": {},
     "output_type": "execute_result"
    }
   ],
   "source": [
    "telcomdata.dtypes"
   ]
  },
  {
   "cell_type": "code",
   "execution_count": 5,
   "metadata": {},
   "outputs": [
    {
     "name": "stderr",
     "output_type": "stream",
     "text": [
      "/home/dell/Desktop/ML_based_Churn_Prediction/knn_imputer/knnimpute.py:222: UserWarning: There are rows with more than 50.0% missing values. These rows are not included as donor neighbors.\n",
      "  .format(self.row_max_missing * 100))\n",
      "/home/dell/Desktop/ML_based_Churn_Prediction/knn_imputer/knnimpute.py:280: UserWarning: There are rows with more than 50.0% missing values. The missing features in these rows are imputed with column means.\n",
      "  .format(self.row_max_missing * 100))\n"
     ]
    }
   ],
   "source": [
    "X = telcomdata._get_numeric_data()\n",
    "imputer = KNNImputer(n_neighbors=2, weights=\"uniform\")\n",
    "np.set_printoptions(suppress=True, threshold=sys.maxsize)\n",
    "result = imputer.fit_transform(X)\n",
    "telcomdata[list(telcomdata._get_numeric_data().columns)] = result\n"
   ]
  },
  {
   "cell_type": "code",
   "execution_count": 6,
   "metadata": {},
   "outputs": [
    {
     "data": {
      "text/plain": [
       "customerID          category\n",
       "gender              category\n",
       "SeniorCitizen       category\n",
       "Partner             category\n",
       "Dependents          category\n",
       "tenure               float64\n",
       "PhoneService        category\n",
       "MultipleLines       category\n",
       "InternetService     category\n",
       "OnlineSecurity      category\n",
       "OnlineBackup        category\n",
       "DeviceProtection    category\n",
       "TechSupport         category\n",
       "StreamingTV         category\n",
       "StreamingMovies     category\n",
       "Contract            category\n",
       "PaperlessBilling    category\n",
       "PaymentMethod       category\n",
       "MonthlyCharges       float64\n",
       "TotalCharges         float64\n",
       "Churn               category\n",
       "dtype: object"
      ]
     },
     "execution_count": 6,
     "metadata": {},
     "output_type": "execute_result"
    }
   ],
   "source": [
    "telcomdata.dtypes"
   ]
  },
  {
   "cell_type": "code",
   "execution_count": 7,
   "metadata": {},
   "outputs": [],
   "source": [
    "catagorical = ['category']\n",
    "imputer_cat = CategoricalImputer()\n",
    "\n",
    "for i in list(telcomdata[list(telcomdata.select_dtypes(include=catagorical).columns)].columns):\n",
    "    column = telcomdata[i]\n",
    "    column.to_numpy()\n",
    "    try:\n",
    "        result = imputer_cat.fit_transform(column)\n",
    "        telcomdata[i] = result\n",
    "        telcomdata[i] = telcomdata[i].astype('category')\n",
    "    except:\n",
    "        pass"
   ]
  },
  {
   "cell_type": "code",
   "execution_count": 8,
   "metadata": {},
   "outputs": [],
   "source": [
    "from sklearn import preprocessing\n",
    "\n",
    "number = preprocessing.LabelEncoder()\n",
    "for i in list(telcomdata.columns):\n",
    "    if not telcomdata[i].dtype == float:\n",
    "        telcomdata[i] = number.fit_transform(telcomdata[i])\n"
   ]
  },
  {
   "cell_type": "code",
   "execution_count": 9,
   "metadata": {},
   "outputs": [],
   "source": [
    "y=telcomdata[\"Churn\"]\n",
    "x=telcomdata.drop('Churn',axis=1)\n",
    "xTrain, xTest, yTrain, yTest = train_test_split(x, y, test_size = 0.2, random_state = 0)"
   ]
  },
  {
   "cell_type": "code",
   "execution_count": 10,
   "metadata": {},
   "outputs": [
    {
     "data": {
      "text/plain": [
       "customerID          0\n",
       "gender              0\n",
       "SeniorCitizen       0\n",
       "Partner             0\n",
       "Dependents          0\n",
       "tenure              0\n",
       "PhoneService        0\n",
       "MultipleLines       0\n",
       "InternetService     0\n",
       "OnlineSecurity      0\n",
       "OnlineBackup        0\n",
       "DeviceProtection    0\n",
       "TechSupport         0\n",
       "StreamingTV         0\n",
       "StreamingMovies     0\n",
       "Contract            0\n",
       "PaperlessBilling    0\n",
       "PaymentMethod       0\n",
       "MonthlyCharges      0\n",
       "TotalCharges        0\n",
       "Churn               0\n",
       "dtype: int64"
      ]
     },
     "execution_count": 10,
     "metadata": {},
     "output_type": "execute_result"
    }
   ],
   "source": [
    "telcomdata.isnull().sum()"
   ]
  },
  {
   "cell_type": "code",
   "execution_count": 11,
   "metadata": {},
   "outputs": [
    {
     "name": "stdout",
     "output_type": "stream",
     "text": [
      "Training accuracy: 100.0 %\n",
      "Test accuracy: 78.4 %\n"
     ]
    }
   ],
   "source": [
    "rf = RandomForestClassifier(random_state=0,n_estimators=1000,criterion=\"gini\")\n",
    "rf.fit(xTrain, yTrain) \n",
    "\n",
    "train_acc_rfc = round((rf.score(xTrain, yTrain))*100,1)\n",
    "test_acc_rfc = round((rf.score(xTest, yTest))*100,1)\n",
    "\n",
    "print(\"Training accuracy: %s %%\" % train_acc_rfc)\n",
    "print('Test accuracy: %s %%' % test_acc_rfc)"
   ]
  },
  {
   "cell_type": "code",
   "execution_count": 12,
   "metadata": {},
   "outputs": [
    {
     "data": {
      "text/plain": [
       "TotalCharges        0.153520\n",
       "MonthlyCharges      0.145163\n",
       "tenure              0.142106\n",
       "customerID          0.127917\n",
       "Contract            0.078003\n",
       "PaymentMethod       0.043936\n",
       "OnlineSecurity      0.041604\n",
       "TechSupport         0.038778\n",
       "OnlineBackup        0.026932\n",
       "InternetService     0.026759\n",
       "gender              0.023096\n",
       "PaperlessBilling    0.021620\n",
       "DeviceProtection    0.020813\n",
       "MultipleLines       0.020489\n",
       "Partner             0.019010\n",
       "SeniorCitizen       0.017891\n",
       "Dependents          0.016472\n",
       "StreamingTV         0.015704\n",
       "StreamingMovies     0.015374\n",
       "PhoneService        0.004812\n",
       "dtype: float64"
      ]
     },
     "execution_count": 12,
     "metadata": {},
     "output_type": "execute_result"
    }
   ],
   "source": [
    "rfc = RandomForestClassifier(random_state=0,n_estimators=1000)\n",
    "rfc.fit(xTrain, yTrain)\n",
    "importances = rfc.feature_importances_\n",
    "\n",
    "f_importances = pd.Series(importances, telcomdata.columns[:-1])\n",
    "f_importances.sort_values(ascending=False, inplace=True)\n",
    "f_importances"
   ]
  },
  {
   "cell_type": "code",
   "execution_count": null,
   "metadata": {},
   "outputs": [],
   "source": []
  },
  {
   "cell_type": "code",
   "execution_count": null,
   "metadata": {},
   "outputs": [],
   "source": []
  },
  {
   "cell_type": "code",
   "execution_count": null,
   "metadata": {},
   "outputs": [],
   "source": []
  },
  {
   "cell_type": "code",
   "execution_count": null,
   "metadata": {},
   "outputs": [],
   "source": []
  },
  {
   "cell_type": "code",
   "execution_count": null,
   "metadata": {},
   "outputs": [],
   "source": []
  },
  {
   "cell_type": "code",
   "execution_count": null,
   "metadata": {},
   "outputs": [],
   "source": []
  },
  {
   "cell_type": "code",
   "execution_count": null,
   "metadata": {},
   "outputs": [],
   "source": []
  },
  {
   "cell_type": "code",
   "execution_count": null,
   "metadata": {},
   "outputs": [],
   "source": []
  },
  {
   "cell_type": "code",
   "execution_count": null,
   "metadata": {},
   "outputs": [],
   "source": []
  },
  {
   "cell_type": "code",
   "execution_count": null,
   "metadata": {},
   "outputs": [],
   "source": []
  },
  {
   "cell_type": "code",
   "execution_count": null,
   "metadata": {},
   "outputs": [],
   "source": []
  },
  {
   "cell_type": "code",
   "execution_count": null,
   "metadata": {},
   "outputs": [],
   "source": []
  },
  {
   "cell_type": "code",
   "execution_count": null,
   "metadata": {},
   "outputs": [],
   "source": []
  }
 ],
 "metadata": {
  "kernelspec": {
   "display_name": "Python 3",
   "language": "python",
   "name": "python3"
  },
  "language_info": {
   "codemirror_mode": {
    "name": "ipython",
    "version": 3
   },
   "file_extension": ".py",
   "mimetype": "text/x-python",
   "name": "python",
   "nbconvert_exporter": "python",
   "pygments_lexer": "ipython3",
   "version": "3.7.3"
  }
 },
 "nbformat": 4,
 "nbformat_minor": 2
}
